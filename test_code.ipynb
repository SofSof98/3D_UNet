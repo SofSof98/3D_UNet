{
 "cells": [
  {
   "cell_type": "code",
   "execution_count": 22,
   "id": "18bbe49c",
   "metadata": {
    "scrolled": true
   },
   "outputs": [
    {
     "name": "stdout",
     "output_type": "stream",
     "text": [
      "['PSMA-001', 'PSMA-002', 'PSMA-003', 'PSMA-004', 'PSMA-005', 'PSMA-006', 'PSMA-007', 'PSMA-009', 'PSMA-011', 'PSMA-013', 'PSMA-014', 'PSMA-015', 'PSMA-016', 'PSMA-018', 'PSMA-019', 'PSMA-020', 'PSMA-021', 'PSMA-022', 'PSMA-023', 'PSMA-024', 'PSMA-025', 'PSMA-026', 'PSMA-027', 'PSMA-028', 'PSMA-029', 'PSMA-030', 'PSMA-031', 'PSMA-032', 'PSMA-033', 'PSMA-034', 'PSMA-036', 'PSMA-037', 'PSMA-038', 'PSMA-039', 'PSMA-040', 'PSMA-041', 'PSMA-042', 'PSMA-043', 'PSMA-044', 'PSMA-045', 'PSMA-046', 'PSMA-047', 'PSMA-048', 'PSMA-049', 'PSMA-050', 'PSMA-051', 'PSMA-052', 'PSMA-053', 'PSMA-054', 'PSMA-055', 'PSMA-056', 'PSMA-057', 'PSMA-058', 'PSMA-059', 'PSMA-062', 'PSMA-063', 'PSMA-064', 'PSMA-065', 'PSMA-067', 'PSMA-069', 'PSMA-070', 'PSMA-071', 'PSMA-073', 'PSMA-075', 'PSMA-076', 'PSMA-077', 'PSMA-078', 'PSMA-079', 'PSMA-080', 'PSMA-081', 'PSMA-082', 'PSMA-083', 'PSMA-084', 'PSMA-085', 'PSMA-086', 'PSMA-087', 'PSMA-088', 'PSMA-089', 'PSMA-090', 'PSMA-091', 'PSMA-092', 'PSMA-093', 'PSMA-095', 'PSMA-096', 'PSMA-098', 'PSMA-101']\n"
     ]
    }
   ],
   "source": [
    "with open(\"/Users/sofiamongardi/Desktop/Thesis/data/images.txt\") as file:\n",
    "    ids = [x.strip() for x in file.readlines()]\n",
    "    print(ids)"
   ]
  },
  {
   "cell_type": "code",
   "execution_count": 25,
   "id": "677e487b",
   "metadata": {},
   "outputs": [],
   "source": [
    "import sys"
   ]
  },
  {
   "cell_type": "code",
   "execution_count": 26,
   "id": "20bb4209",
   "metadata": {},
   "outputs": [],
   "source": [
    "args = sys.argv"
   ]
  },
  {
   "cell_type": "code",
   "execution_count": 28,
   "id": "68a5cba4",
   "metadata": {},
   "outputs": [
    {
     "data": {
      "text/plain": [
       "'/Users/sofiamongardi/opt/anaconda3/lib/python3.9/site-packages/ipykernel_launcher.py'"
      ]
     },
     "execution_count": 28,
     "metadata": {},
     "output_type": "execute_result"
    }
   ],
   "source": [
    "args[0]"
   ]
  },
  {
   "cell_type": "code",
   "execution_count": null,
   "id": "dc55ddd7",
   "metadata": {},
   "outputs": [],
   "source": []
  }
 ],
 "metadata": {
  "kernelspec": {
   "display_name": "Python 3 (ipykernel)",
   "language": "python",
   "name": "python3"
  },
  "language_info": {
   "codemirror_mode": {
    "name": "ipython",
    "version": 3
   },
   "file_extension": ".py",
   "mimetype": "text/x-python",
   "name": "python",
   "nbconvert_exporter": "python",
   "pygments_lexer": "ipython3",
   "version": "3.9.7"
  },
  "toc": {
   "base_numbering": 1,
   "nav_menu": {},
   "number_sections": true,
   "sideBar": true,
   "skip_h1_title": false,
   "title_cell": "Table of Contents",
   "title_sidebar": "Contents",
   "toc_cell": false,
   "toc_position": {},
   "toc_section_display": true,
   "toc_window_display": false
  },
  "varInspector": {
   "cols": {
    "lenName": 16,
    "lenType": 16,
    "lenVar": 40
   },
   "kernels_config": {
    "python": {
     "delete_cmd_postfix": "",
     "delete_cmd_prefix": "del ",
     "library": "var_list.py",
     "varRefreshCmd": "print(var_dic_list())"
    },
    "r": {
     "delete_cmd_postfix": ") ",
     "delete_cmd_prefix": "rm(",
     "library": "var_list.r",
     "varRefreshCmd": "cat(var_dic_list()) "
    }
   },
   "types_to_exclude": [
    "module",
    "function",
    "builtin_function_or_method",
    "instance",
    "_Feature"
   ],
   "window_display": false
  }
 },
 "nbformat": 4,
 "nbformat_minor": 5
}
