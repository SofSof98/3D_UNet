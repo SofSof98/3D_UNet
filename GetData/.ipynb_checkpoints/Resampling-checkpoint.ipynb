{
 "cells": [
  {
   "cell_type": "code",
   "execution_count": null,
   "id": "cd6ab8d7",
   "metadata": {},
   "outputs": [],
   "source": [
    "import SimpleITK as sitk\n",
    "from IPython.core.interactiveshell import InteractiveShell\n",
    "InteractiveShell.ast_node_interactivity = \"all\"\n",
    "import cv2\n",
    "import numpy as np\n",
    "import pandas as pd\n",
    "import nrrd\n",
    "import os\n",
    "import nibabel as nib\n",
    "import time\n",
    "from utils import nifty_loader, nrrd_loader, normalize_PET_data, resample, resample_image, resample_volume, anonymize_data"
   ]
  },
  {
   "cell_type": "markdown",
   "id": "8454470a",
   "metadata": {},
   "source": [
    "# Prepare Data and Create Folders\n",
    "\n",
    "Data should be stored as follows:\n",
    "+ 3 separated folders with PET VOLUMES, PROSTATE CONTOURS, and PCa CONTOURS, respectively.\n",
    "\n",
    "+ PET VOLUMES should be saved as last_name.extension (nifty or nrrd allowed)\n",
    "+ PROSTATE CONTOURS should be saved as last_name-PR.extension (nifty or nrrd allowed)\n",
    "+ PCa CONTOURS should be saved as last_name-L1.extension (nifty or nrrd allowed)"
   ]
  },
  {
   "cell_type": "code",
   "execution_count": null,
   "id": "fbccd4da",
   "metadata": {},
   "outputs": [],
   "source": [
    "# directory to PET images folder\n",
    "PET_img_dir = '/Users/sofiamongardi/Desktop/PET'\n",
    "# directory to prostate contours folder\n",
    "PR_img_dir = '/Users/sofiamongardi/Desktop/prostate'\n",
    "# directory to PCa lesion contours folder\n",
    "PCa_img_dir = '/Users/sofiamongardi/Desktop/lesions'"
   ]
  },
  {
   "cell_type": "code",
   "execution_count": null,
   "id": "61cd6b18",
   "metadata": {},
   "outputs": [],
   "source": [
    "# Normalize PET nifti\n",
    "new_PET_img_dir = normalize_PET_data(PET_img_dir, nifty_loader)"
   ]
  },
  {
   "cell_type": "code",
   "execution_count": null,
   "id": "13b245b4",
   "metadata": {},
   "outputs": [],
   "source": [
    "out_dir = '/Users/sofiamongardi/Desktop/data'\n",
    "if not os.path.isdir(out_dir):\n",
    "        os.mkdir(out_dir)"
   ]
  },
  {
   "cell_type": "code",
   "execution_count": null,
   "id": "8dd2ae63",
   "metadata": {
    "scrolled": true
   },
   "outputs": [],
   "source": [
    "# resample voxel spacing PET images\n",
    "start = time.time()\n",
    "resample(new_PET_img_dir, out_dir, resample_volume, method = 'bspline',\n",
    "         in_type = 'nifti', out_type = 'nrrd')\n",
    "end = time.time()\n",
    "print(end - start)\n",
    "# 21.291961193084717s resample_image bspline # same for resample_volume\n",
    "# 1.7153081893920898s resample_image trilinear # same for resample_volume"
   ]
  },
  {
   "cell_type": "code",
   "execution_count": null,
   "id": "b9118ecc",
   "metadata": {},
   "outputs": [],
   "source": [
    "# resample prostate contours\n",
    "resample(PR_img_dir , out_dir, resample_image, method = 'nearest',\n",
    "         in_type = 'nifti', out_type = 'nrrd', split = '-PR', filename ='prostate')"
   ]
  },
  {
   "cell_type": "code",
   "execution_count": null,
   "id": "156d8f6b",
   "metadata": {},
   "outputs": [],
   "source": [
    "# resample PCa lesion contours\n",
    "resample(PCa_img_dir, out_dir, resample_image, method = 'nearest',\n",
    "         in_type = 'nifti', out_type = 'nrrd', split = '-L1', filename ='l1')"
   ]
  },
  {
   "cell_type": "markdown",
   "id": "fd957ba5",
   "metadata": {},
   "source": [
    "# Anonimize Patients "
   ]
  },
  {
   "cell_type": "code",
   "execution_count": null,
   "id": "9b737cda",
   "metadata": {},
   "outputs": [],
   "source": [
    "# read dataset with patient's name, last name, and patient ID\n",
    "df = pd.read_csv('/Volumes/PortableSSD/Thesis_BCG/data.csv', index_col=0)"
   ]
  },
  {
   "cell_type": "code",
   "execution_count": null,
   "id": "9ad0bfa5",
   "metadata": {},
   "outputs": [],
   "source": [
    "data_dire = '/Users/sofiamongardi/Desktop/data'"
   ]
  },
  {
   "cell_type": "code",
   "execution_count": null,
   "id": "feb50629",
   "metadata": {},
   "outputs": [],
   "source": [
    "anonymize_data(data_dire, df)"
   ]
  }
 ],
 "metadata": {
  "kernelspec": {
   "display_name": "Python 3 (ipykernel)",
   "language": "python",
   "name": "python3"
  },
  "language_info": {
   "codemirror_mode": {
    "name": "ipython",
    "version": 3
   },
   "file_extension": ".py",
   "mimetype": "text/x-python",
   "name": "python",
   "nbconvert_exporter": "python",
   "pygments_lexer": "ipython3",
   "version": "3.9.7"
  },
  "toc": {
   "base_numbering": 1,
   "nav_menu": {},
   "number_sections": true,
   "sideBar": true,
   "skip_h1_title": false,
   "title_cell": "Table of Contents",
   "title_sidebar": "Contents",
   "toc_cell": false,
   "toc_position": {},
   "toc_section_display": true,
   "toc_window_display": false
  },
  "varInspector": {
   "cols": {
    "lenName": 16,
    "lenType": 16,
    "lenVar": 40
   },
   "kernels_config": {
    "python": {
     "delete_cmd_postfix": "",
     "delete_cmd_prefix": "del ",
     "library": "var_list.py",
     "varRefreshCmd": "print(var_dic_list())"
    },
    "r": {
     "delete_cmd_postfix": ") ",
     "delete_cmd_prefix": "rm(",
     "library": "var_list.r",
     "varRefreshCmd": "cat(var_dic_list()) "
    }
   },
   "types_to_exclude": [
    "module",
    "function",
    "builtin_function_or_method",
    "instance",
    "_Feature"
   ],
   "window_display": false
  }
 },
 "nbformat": 4,
 "nbformat_minor": 5
}
